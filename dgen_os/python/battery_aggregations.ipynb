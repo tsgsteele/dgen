{
 "cells": [
  {
   "cell_type": "code",
   "execution_count": null,
   "id": "0",
   "metadata": {},
   "outputs": [],
   "source": [
    "from battery_analysis import get_engine\n",
    "import pandas as pd\n",
    "from sqlalchemy import create_engine, text\n",
    "from sqlalchemy.engine import Engine"
   ]
  },
  {
   "cell_type": "code",
   "execution_count": null,
   "id": "1",
   "metadata": {},
   "outputs": [],
   "source": [
    "engine, schema = get_engine(schema=\"diffusion_results_policy_20250831_020659713296\")\n",
    "year = 2026\n",
    "tbl = \"agent_annual_finance\"\n",
    "\n",
    "sql = f\"\"\"\n",
    "        SELECT * FROM {schema}.{tbl}\n",
    "        WHERE year = :year\n",
    "        ORDER BY agent_id\n",
    "        \"\"\"\n",
    "params = {\"year\": year}\n",
    "\n",
    "finance = pd.read_sql(text(sql), engine, params=params)\n",
    "\n",
    "tbl = \"agent_annual_finance_detail\"\n",
    "\n",
    "sql = f\"\"\"\n",
    "        SELECT * FROM {schema}.{tbl}\n",
    "        WHERE year = :year\n",
    "        ORDER BY agent_id, year, scenario_case, metric, period_index\n",
    "        \"\"\"\n",
    "params = {\"year\": year}\n",
    "\n",
    "finance_det = pd.read_sql(text(sql), engine, params=params)"
   ]
  },
  {
   "cell_type": "code",
   "execution_count": null,
   "id": "2",
   "metadata": {},
   "outputs": [],
   "source": [
    "# Get energy value\n",
    "energy_value = finance_det[\n",
    "    (finance_det['period_index']==1) &\n",
    "    (finance_det['metric'].isin(['cf_energy_value', 'cf_debt_payment_total']))\n",
    "     ][['agent_id', 'value', 'scenario_case', 'metric']]\n",
    "energy_value_wide = energy_value.pivot(index=['agent_id', 'scenario_case'], columns='metric', values='value').reset_index()\n",
    "\n",
    "# Get total upfront cost\n",
    "upfront_cost = finance_det[\n",
    "    (finance_det['metric'] == 'cf_discounted_costs')\n",
    "    ].groupby(['agent_id', 'scenario_case'], as_index = False).agg(upfront_cost=(\"value\",\"sum\"))\n",
    "\n",
    "# Merge\n",
    "upfront_cost_value = upfront_cost.merge(energy_value_wide, on = ['agent_id', 'scenario_case'], how=\"left\")\n",
    "\n",
    "# Merge NPV and system sizing\n",
    "upfront_cost_value_size = upfront_cost_value.merge(finance[['agent_id', 'scenario_case', 'system_kw', \n",
    "                                                            'batt_kw', 'batt_kwh', 'npv_usd', 'payback_yrs']],\n",
    "                                                            on = ['agent_id', 'scenario_case'])\n",
    "\n",
    "upfront_cost_value_size['upfront_cost']          = upfront_cost_value_size['upfront_cost'].apply(lambda x: str(int(round(x,0))) if pd.notna(x) else x)\n",
    "upfront_cost_value_size['cf_energy_value']       = upfront_cost_value_size['cf_energy_value'].apply(lambda x: str(int(round(x,0))) if pd.notna(x) else x)\n",
    "upfront_cost_value_size['cf_debt_payment_total'] = upfront_cost_value_size['cf_debt_payment_total'].apply(lambda x: str(int(round(x,0))) if pd.notna(x) else x)\n",
    "upfront_cost_value_size['npv_usd']               = upfront_cost_value_size['npv_usd'].apply(lambda x: str(int(round(x,0))) if pd.notna(x) else x)\n",
    "upfront_cost_value_size['system_kw']   = upfront_cost_value_size['system_kw'].apply(lambda x: f\"{x:.2f}\".rstrip(\"0\").rstrip(\".\") if pd.notna(x) else x)\n",
    "\n",
    "upfront_cost_value_size['batt_kw']   = upfront_cost_value_size['batt_kw'].apply(lambda x: f\"{x:.2f}\".rstrip(\"0\").rstrip(\".\") if pd.notna(x) else x)\n",
    "upfront_cost_value_size['batt_kwh']  = upfront_cost_value_size['batt_kwh'].apply(lambda x: f\"{x:.2f}\".rstrip(\"0\").rstrip(\".\") if pd.notna(x) else x)\n",
    "upfront_cost_value_size['payback_yrs'] = upfront_cost_value_size['payback_yrs'].apply(lambda x: f\"{x:.2f}\".rstrip(\"0\").rstrip(\".\") if pd.notna(x) else x)\n",
    "\n",
    "\n",
    "\n",
    "df_wide = (\n",
    "    upfront_cost_value_size\n",
    "    .melt(id_vars=['agent_id', 'scenario_case'], \n",
    "          value_vars = [col for col in upfront_cost_value_size.columns if col not in ['agent_id', 'scenario_case']],\n",
    "          var_name='metric')\n",
    "    .pivot(index = [\"agent_id\", \"metric\"], columns=[\"scenario_case\"], \n",
    "           values = ['value'])\n",
    "    .reset_index()\n",
    "    )\n",
    "\n",
    "#df_wide['diff'] = df_wide['value']['pv_batt'] - df_wide['value']['pv_only']\n",
    "\n"
   ]
  },
  {
   "cell_type": "code",
   "execution_count": null,
   "id": "3",
   "metadata": {},
   "outputs": [],
   "source": [
    "df_wide[df_wide['agent_id']==483916]"
   ]
  },
  {
   "cell_type": "code",
   "execution_count": null,
   "id": "4",
   "metadata": {},
   "outputs": [],
   "source": [
    "hourly[hourly['variable'] == 'grid_to_load_util_kwh']"
   ]
  },
  {
   "cell_type": "code",
   "execution_count": null,
   "id": "5",
   "metadata": {},
   "outputs": [],
   "source": [
    "engine, schema = get_engine(schema=\"diffusion_results_policy_20250831_020659713296\")\n",
    "year = 2026\n",
    "tbl = \"agent_hourly_econ\"\n",
    "\n",
    "sql = f\"\"\"\n",
    "        SELECT * FROM {schema}.{tbl}\n",
    "        WHERE agent_id = 483916\n",
    "        ORDER BY hour_index\n",
    "        \"\"\"\n",
    "\n",
    "hourly = pd.read_sql(text(sql), engine, params=params)\n"
   ]
  }
 ],
 "metadata": {
  "kernelspec": {
   "display_name": "dg3n",
   "language": "python",
   "name": "python3"
  },
  "language_info": {
   "codemirror_mode": {
    "name": "ipython",
    "version": 3
   },
   "file_extension": ".py",
   "mimetype": "text/x-python",
   "name": "python",
   "nbconvert_exporter": "python",
   "pygments_lexer": "ipython3",
   "version": "3.12.11"
  }
 },
 "nbformat": 4,
 "nbformat_minor": 5
}
