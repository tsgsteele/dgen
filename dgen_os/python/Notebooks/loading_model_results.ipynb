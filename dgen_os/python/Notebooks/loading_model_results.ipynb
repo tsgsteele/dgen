{
 "cells": [
  {
   "cell_type": "markdown",
   "id": "0",
   "metadata": {},
   "source": [
    "### Export diffusion_results_* → per-state CSVs (parallel) and combine by state"
   ]
  },
  {
   "cell_type": "code",
   "execution_count": null,
   "id": "1",
   "metadata": {},
   "outputs": [],
   "source": [
    "# Set path to access helpers\n",
    "from pathlib import Path\n",
    "import sys\n",
    "\n",
    "PARENT = Path.cwd().parent     # helpers live here\n",
    "if str(PARENT) not in sys.path:\n",
    "    sys.path.insert(0, str(PARENT))"
   ]
  },
  {
   "cell_type": "code",
   "execution_count": null,
   "id": "2",
   "metadata": {},
   "outputs": [],
   "source": [
    "from schema_exporter import ConnParams, export_all"
   ]
  },
  {
   "cell_type": "code",
   "execution_count": null,
   "id": "3",
   "metadata": {},
   "outputs": [],
   "source": [
    "OUT_DIR = \"/Volumes/Seagate Portabl/permit_power/dgen_runs/per_state_outputs\"\n",
    "RUN_ID  = \"test_run_all_states_no_net_billing\""
   ]
  },
  {
   "cell_type": "code",
   "execution_count": null,
   "id": "4",
   "metadata": {},
   "outputs": [],
   "source": [
    "# DB connection (use env vars PGHOST, PGPORT, PGUSER, PGPASSWORD, PGDATABASE to override)\n",
    "cp = ConnParams.from_env()  # or ConnParams(dbname=\"dgendb\", user=\"postgres\", ...)\n",
    "\n",
    "# Choose parallelism (try 6–8 on a 12-core machine; reduce if your disk is slow)\n",
    "JOBS = 10\n",
    "\n",
    "summary = export_all(\n",
    "    cp=cp,\n",
    "    out_dir=OUT_DIR,\n",
    "    run_id=RUN_ID,\n",
    "    chunksize=200_000,\n",
    "    jobs=JOBS,\n",
    "    overwrite=True,       \n",
    "    only_scenarios=None,  \n",
    "    states_filter=None, \n",
    ")\n",
    "\n",
    "summary"
   ]
  }
 ],
 "metadata": {
  "kernelspec": {
   "display_name": "dg3n",
   "language": "python",
   "name": "python3"
  },
  "language_info": {
   "codemirror_mode": {
    "name": "ipython",
    "version": 3
   },
   "file_extension": ".py",
   "mimetype": "text/x-python",
   "name": "python",
   "nbconvert_exporter": "python",
   "pygments_lexer": "ipython3",
   "version": "3.12.11"
  }
 },
 "nbformat": 4,
 "nbformat_minor": 5
}
