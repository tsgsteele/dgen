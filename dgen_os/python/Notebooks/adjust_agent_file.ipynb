{
 "cells": [
  {
   "cell_type": "code",
   "execution_count": null,
   "id": "0",
   "metadata": {},
   "outputs": [],
   "source": [
    "import pandas as pd\n",
    "import numpy as np"
   ]
  },
  {
   "cell_type": "code",
   "execution_count": null,
   "id": "1",
   "metadata": {},
   "outputs": [],
   "source": [
    "# Load data\n",
    "df = pd.read_pickle('../../../data/agent_df_base_res_national_revised_v2.pkl')\n",
    "load = pd.read_csv('../../../data/load_gwh.csv')\n",
    "rates = pd.read_csv(\"../../../data/residential_agents_updated.csv\")\n",
    "cty_prices = pd.read_pickle(\"../../../data/stanford_files/data_county_to_wholesale.pkl\")\n",
    "county_map = pd.read_csv(\"../../../data/dgen_county_fips_mapping.csv\", dtype={'geoid10':'str', 'county_id':'str'})\n",
    "households = pd.read_csv(\"../../../data/household_counts.csv\")\n"
   ]
  },
  {
   "cell_type": "code",
   "execution_count": null,
   "id": "2",
   "metadata": {},
   "outputs": [],
   "source": [
    "# Pull out agent id column\n",
    "df = df.reset_index(drop=False)"
   ]
  },
  {
   "cell_type": "code",
   "execution_count": null,
   "id": "3",
   "metadata": {},
   "outputs": [],
   "source": [
    "# Join EIA state-level load data and census houseing counts to agent file\n",
    "df_eia = (\n",
    "    df\n",
    "    .merge(load, on = 'state_abbr')\n",
    "    .merge(households, on = 'state_abbr')\n",
    ")\n",
    "\n",
    "# First coerce cols to numeric\n",
    "cols_to_numeric = [\"load_gwh\", \"households\", \"customers_in_bin_initial\", \n",
    "                   \"load_kwh_per_customer_in_bin_initial\", \"load_kwh_in_bin_initial\"]\n",
    "\n",
    "df_eia[cols_to_numeric] = df_eia[cols_to_numeric].apply(\n",
    "    pd.to_numeric, errors=\"coerce\"\n",
    ")"
   ]
  },
  {
   "cell_type": "code",
   "execution_count": null,
   "id": "4",
   "metadata": {},
   "outputs": [],
   "source": [
    "# First update housing counts and loads\n",
    "\n",
    "# Preserve original load:\n",
    "df_eia[\"orig_per_cust\"] = df_eia[\"load_kwh_per_customer_in_bin_initial\"]\n",
    "\n",
    "# Housing counts\n",
    "state_sum_customers = df_eia.groupby(\"state_abbr\")[\"customers_in_bin_initial\"].transform(\"sum\")\n",
    "scale = (df_eia[\"households\"]*df_eia['pct_of_bldgs_developable']) / state_sum_customers.replace(0, np.nan)\n",
    "\n",
    "df_eia[\"customers_in_bin_initial\"] = (\n",
    "    df_eia[\"customers_in_bin_initial\"] * scale\n",
    ").fillna(0)\n",
    "\n",
    "# Derate the EIA state-wide loads based on pct of building developable\n",
    "# customers_in_bin already reflects the percentage of developable buildings\n",
    "df_eia['load_kwh'] = df_eia['load_gwh']*df_eia['pct_of_bldgs_developable']*1000000\n",
    "\n",
    "# Compute state totals *after* customer scaling\n",
    "state_tot_cust = df_eia.groupby(\"state_abbr\")[\"customers_in_bin_initial\"].transform(\"sum\")\n",
    "\n",
    "# (Optional) sanity: if a state has 0 customers after scaling, avoid div/0\n",
    "state_tot_cust = state_tot_cust.replace(0, np.nan)\n",
    "\n",
    "# Build weights that preserve within-state intensity differences\n",
    "weights = df_eia[\"customers_in_bin_initial\"] * df_eia[\"orig_per_cust\"]\n",
    "\n",
    "state_weight_sums = weights.groupby(df_eia[\"state_abbr\"]).transform(\"sum\").replace(0, np.nan)\n",
    "\n",
    "# Your state-level load after derating by developable %\n",
    "# (You currently repeat the same state figure on each row; we just need its per-state sum)\n",
    "state_load_totals = df_eia.groupby(\"state_abbr\")[\"load_kwh\"].transform(\"first\")\n",
    "\n",
    "# Allocation that preserves mix, then rescales to the state total\n",
    "df_eia[\"allocated_load_kwh\"] = (weights / state_weight_sums) * state_load_totals\n",
    "\n",
    "# Per-customer and per-bin recomputes\n",
    "df_eia[\"load_kwh_per_customer_in_bin_initial\"] = (\n",
    "    df_eia[\"allocated_load_kwh\"] / df_eia[\"customers_in_bin_initial\"]\n",
    ")\n",
    "\n",
    "df_eia[\"load_kwh_in_bin_initial\"] = (\n",
    "    df_eia[\"customers_in_bin_initial\"] * df_eia[\"load_kwh_per_customer_in_bin_initial\"]\n",
    ")\n",
    "\n",
    "# Clean up any divisions by zero that became NaN/inf\n",
    "df_eia[[\"allocated_load_kwh\",\n",
    "        \"load_kwh_per_customer_in_bin_initial\",\n",
    "        \"load_kwh_in_bin_initial\"]] = df_eia[[\n",
    "            \"allocated_load_kwh\",\n",
    "            \"load_kwh_per_customer_in_bin_initial\",\n",
    "            \"load_kwh_in_bin_initial\"\n",
    "        ]].fillna(0)"
   ]
  },
  {
   "cell_type": "code",
   "execution_count": null,
   "id": "5",
   "metadata": {},
   "outputs": [],
   "source": [
    "# Next update rates, one liner swap in the new tariff_dict column\n",
    "agents_rates = df_eia.drop(\"tariff_dict\", axis = 1).merge(rates[['bldg_id', 'tariff_dict']], on = 'bldg_id')"
   ]
  },
  {
   "cell_type": "code",
   "execution_count": null,
   "id": "6",
   "metadata": {},
   "outputs": [],
   "source": [
    "# Next update wholesale prices\n",
    "\n",
    "# Convert the dict of county wholesale prices to a df for the join\n",
    "prices_df = pd.DataFrame(\n",
    "    [(str(k), np.asarray(v, dtype=float)) for k, v in cty_prices.items()],\n",
    "    columns=[\"geoid10\", \"wholesale_prices\"]\n",
    ")\n",
    "\n",
    "# change agent df county_id column to str\n",
    "agents_rates['county_id'] = agents_rates['county_id'].astype(str)\n",
    "\n",
    "# Change Oglala Lakota County fips code for join\n",
    "county_map['geoid10'] = np.where(county_map['geoid10'] == '46113', '46102', county_map['geoid10'])\n",
    "\n",
    "# Merge to the county_map\n",
    "county_prices = county_map[['geoid10', 'county_id']].merge(prices_df, on = ['geoid10'], how = \"left\")\n",
    "\n",
    "# Merge the prices to the agent df\n",
    "agents_prices = agents_rates.merge(county_prices[['county_id', 'wholesale_prices']], on = ['county_id'], how = 'left')"
   ]
  },
  {
   "cell_type": "code",
   "execution_count": null,
   "id": "7",
   "metadata": {},
   "outputs": [],
   "source": [
    "# Prepare agent file for write\n",
    "df_to_write = agents_prices.set_index('agent_id')"
   ]
  },
  {
   "cell_type": "code",
   "execution_count": null,
   "id": "8",
   "metadata": {},
   "outputs": [],
   "source": [
    "# Write agent file\n",
    "df_to_write.to_pickle(\"../../input_agents/agent_df_base_res_national_updated_wholesale_prices.pkl\")"
   ]
  },
  {
   "cell_type": "code",
   "execution_count": null,
   "id": "9",
   "metadata": {},
   "outputs": [],
   "source": [
    "# Check weighted averages\n",
    "\n",
    "avg = (\n",
    "    df_to_write.groupby(\"state_abbr\")\n",
    "      .apply(lambda g: np.average(\n",
    "          g[\"load_kwh_per_customer_in_bin_initial\"],\n",
    "          weights=g[\"customers_in_bin_initial\"]\n",
    "      ))\n",
    "      .reset_index(name=\"weighted_avg_load_kwh_per_customer\")\n",
    ")"
   ]
  },
  {
   "cell_type": "code",
   "execution_count": null,
   "id": "10",
   "metadata": {},
   "outputs": [],
   "source": []
  }
 ],
 "metadata": {
  "kernelspec": {
   "display_name": "dg3n",
   "language": "python",
   "name": "python3"
  },
  "language_info": {
   "codemirror_mode": {
    "name": "ipython",
    "version": 3
   },
   "file_extension": ".py",
   "mimetype": "text/x-python",
   "name": "python",
   "nbconvert_exporter": "python",
   "pygments_lexer": "ipython3",
   "version": "3.12.11"
  }
 },
 "nbformat": 4,
 "nbformat_minor": 5
}
