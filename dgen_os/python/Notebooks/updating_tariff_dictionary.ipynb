{
 "cells": [
  {
   "cell_type": "code",
   "execution_count": null,
   "metadata": {},
   "outputs": [],
   "source": [
    "\"\"\"\n",
    "This notebook will swap in new utility rates pulled by the dGen team and attach them to the existing agent file. It will save the agent file.\n",
    "\"\"\""
   ]
  },
  {
   "cell_type": "code",
   "execution_count": null,
   "metadata": {},
   "outputs": [],
   "source": [
    "#Imports\n",
    "import pandas as pd"
   ]
  },
  {
   "cell_type": "code",
   "execution_count": null,
   "metadata": {},
   "outputs": [],
   "source": [
    "# Load existing agent file\n",
    "agents = pd.read_pickle(\"../../input_agents/agent_df_base_res_national_load_adjusted.pkl\")\n",
    "rates = pd.read_csv(\"../../../data/residential_agents_updated.csv\")"
   ]
  },
  {
   "cell_type": "code",
   "execution_count": null,
   "metadata": {},
   "outputs": [],
   "source": [
    "# Pull out agent_id column\n",
    "agents = agents.reset_index(drop = False)\n",
    "\n",
    "# Join new rates to agent file\n",
    "agents_rates = agents.drop(\"tariff_dict\", axis = 1).merge(rates[['bldg_id', 'tariff_dict']], on = 'bldg_id').set_index(\"agent_id\")"
   ]
  },
  {
   "cell_type": "code",
   "execution_count": null,
   "metadata": {},
   "outputs": [],
   "source": [
    "# Save the .pkl file\n",
    "agents_rates.to_pickle(\"../../input_agents/agent_df_base_res_national_updated_rates.pkl\")"
   ]
  }
 ],
 "metadata": {
  "kernelspec": {
   "display_name": "dg3n",
   "language": "python",
   "name": "python3"
  },
  "language_info": {
   "codemirror_mode": {
    "name": "ipython",
    "version": 3
   },
   "file_extension": ".py",
   "mimetype": "text/x-python",
   "name": "python",
   "nbconvert_exporter": "python",
   "pygments_lexer": "ipython3",
   "version": "3.12.11"
  }
 },
 "nbformat": 4,
 "nbformat_minor": 4
}
