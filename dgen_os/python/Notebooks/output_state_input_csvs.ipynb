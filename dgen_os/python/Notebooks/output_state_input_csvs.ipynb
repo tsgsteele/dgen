{
 "cells": [
  {
   "cell_type": "code",
   "execution_count": null,
   "id": "0",
   "metadata": {},
   "outputs": [],
   "source": [
    "import pandas as pd"
   ]
  },
  {
   "cell_type": "code",
   "execution_count": null,
   "id": "1",
   "metadata": {},
   "outputs": [],
   "source": [
    "# Read agents and states\n",
    "agents = pd.read_pickle(\"../../../data/agent_df_base_res_national_load_adjusted.pkl\").reset_index(drop=False)\n",
    "states = pd.read_csv(\"../../../state_input_csvs/states.csv\", header = None, names = ['state_abbr', 'state_name'])\n",
    "\n",
    "# Join to state name\n",
    "agents = agents.merge(states, on='state_abbr', how='left')\n",
    "\n",
    "# Sort by number of agents per state\n",
    "sorted = agents.groupby(['state_abbr', 'state_name'], as_index = False).agg(agent_count=('agent_id', 'count')).sort_values(by='agent_count', ascending=False)"
   ]
  },
  {
   "cell_type": "code",
   "execution_count": null,
   "id": "2",
   "metadata": {},
   "outputs": [],
   "source": [
    "# Define state categories by agent count\n",
    "large_states = sorted[sorted['agent_count'] > 1000]\n",
    "mid_large_states = sorted[(sorted['agent_count'] > 500) & (sorted['agent_count'] <= 1000)]\n",
    "mid_states = sorted[(sorted['agent_count'] > 100) & (sorted['agent_count'] <= 500)]\n",
    "small_states = sorted[sorted['agent_count'] <= 100]\n",
    "\n",
    "# Write states to CSV\n",
    "large_states[['state_abbr', 'state_name']].to_csv(\"../../../state_input_csvs/large_states.csv\", index=False, header=False)\n",
    "mid_large_states[['state_abbr', 'state_name']].to_csv(\"../../../state_input_csvs/mid_large_states.csv\", index=False, header=False)\n",
    "mid_states[['state_abbr', 'state_name']].to_csv(\"../../../state_input_csvs/mid_states.csv\", index=False, header=False)\n",
    "small_states[['state_abbr', 'state_name']].to_csv(\"../../../state_input_csvs/small_states.csv\", index=False, header=False)\n",
    "\n",
    "# Write test CSVs\n",
    "large_states[['state_abbr', 'state_name']].sample(n=4, random_state=42).to_csv(\"../../../state_input_csvs/large_states_test.csv\", index=False, header=False)\n",
    "mid_large_states[['state_abbr', 'state_name']].sample(n=12, random_state=42).to_csv(\"../../../state_input_csvs/mid_large_states_test.csv\", index=False, header=False)\n",
    "mid_states[['state_abbr', 'state_name']].sample(n=27, random_state=42).to_csv(\"../../../state_input_csvs/mid_states_test.csv\", index=False, header=False)\n",
    "small_states[['state_abbr', 'state_name']].sample(n=5, random_state=42).to_csv(\"../../../state_input_csvs/small_states_test.csv\", index=False, header=False)\n",
    "\n",
    "# Overall states\n",
    "sorted[['state_abbr', 'state_name']].to_csv(\"../../../state_input_csvs/states.csv\", index=False, header=False)\n",
    "sorted[['state_abbr', 'state_name']].sample(n=10, random_state=42).to_csv(\"../../../state_input_csvs/states_test.csv\", index=False, header=True)\n"
   ]
  },
  {
   "cell_type": "code",
   "execution_count": null,
   "id": "3",
   "metadata": {},
   "outputs": [],
   "source": [
    "# Upload to GCE\n",
    "!gsutil cp ../../../state_input_csvs/large_states.csv gs://dgen-assets/large_states.csv\n",
    "!gsutil cp ../../../state_input_csvs/mid_large_states.csv gs://dgen-assets/mid_large_states.csv\n",
    "!gsutil cp ../../../state_input_csvs/mid_states.csv gs://dgen-assets/mid_states.csv\n",
    "!gsutil cp ../../../state_input_csvs/small_states.csv gs://dgen-assets/small_states.csv\n",
    "\n",
    "!gsutil cp ../../../state_input_csvs/large_states_test.csv gs://dgen-assets/large_states_test.csv\n",
    "!gsutil cp ../../../state_input_csvs/mid_large_states_test.csv gs://dgen-assets/mid_large_states_test.csv\n",
    "!gsutil cp ../../../state_input_csvs/mid_states_test.csv gs://dgen-assets/mid_states_test.csv\n",
    "!gsutil cp ../../../state_input_csvs/small_states_test.csv gs://dgen-assets/small_states_test.csv\n",
    "\n",
    "!gsutil cp ../../../state_input_csvs/states.csv gs://dgen-assets/states.csv\n",
    "!gsutil cp ../../../state_input_csvs/states_test.csv gs://dgen-assets/states_test.csv\n"
   ]
  },
  {
   "cell_type": "code",
   "execution_count": null,
   "id": "4",
   "metadata": {},
   "outputs": [],
   "source": []
  }
 ],
 "metadata": {
  "kernelspec": {
   "display_name": "dg3n",
   "language": "python",
   "name": "python3"
  },
  "language_info": {
   "codemirror_mode": {
    "name": "ipython",
    "version": 3
   },
   "file_extension": ".py",
   "mimetype": "text/x-python",
   "name": "python",
   "nbconvert_exporter": "python",
   "pygments_lexer": "ipython3",
   "version": "3.12.11"
  }
 },
 "nbformat": 4,
 "nbformat_minor": 5
}
