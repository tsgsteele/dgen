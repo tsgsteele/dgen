{
 "cells": [
  {
   "cell_type": "code",
   "execution_count": 8,
   "id": "ff63de90",
   "metadata": {},
   "outputs": [],
   "source": [
    "# Adjust the non-price inputs, which are pulled directly from the cloud sql database (and not generated from local csvs) \n",
    "# to reflect the Permit Power scenario "
   ]
  },
  {
   "cell_type": "code",
   "execution_count": null,
   "id": "0fdbe9e7",
   "metadata": {},
   "outputs": [],
   "source": [
    "# Imports\n",
    "import sys, os\n",
    "import pandas as pd\n",
    "import numpy as np\n",
    "from sqlalchemy import create_engine\n",
    "\n",
    "sys.path.append(os.path.abspath(\"..\"))\n",
    "\n",
    "from input_data_functions import stacked_sectors"
   ]
  },
  {
   "cell_type": "code",
   "execution_count": null,
   "id": "ac4bdd6b",
   "metadata": {},
   "outputs": [],
   "source": [
    "# Load non-price inputs\n",
    "finance = stacked_sectors(pd.read_csv(\"../../input_data/financing_terms/financing_atb_FY23.csv\"))\n",
    "batt_perf = stacked_sectors(pd.read_csv(\"../../input_data/batt_tech_performance/batt_tech_performance_FY19.csv\"))"
   ]
  },
  {
   "cell_type": "code",
   "execution_count": 11,
   "id": "b1ef9147",
   "metadata": {},
   "outputs": [],
   "source": [
    "# Upload to Cloud SQL instance db\n",
    "# The csvs have already been updated locally\n",
    "\n",
    "# Connection config\n",
    "DB_USER = \"postgres\"\n",
    "DB_PASS = \"postgres\"\n",
    "DB_NAME = \"dgendb\"\n",
    "DB_PORT = 5432\n",
    "DB_HOST = \"127.0.0.1\"  # local Cloud SQL Proxy\n",
    "\n",
    "# Build SQLAlchemy connection string\n",
    "conn_str = f\"postgresql+psycopg2://{DB_USER}:{DB_PASS}@{DB_HOST}:{DB_PORT}/{DB_NAME}\"\n",
    "\n",
    "# Create engine\n",
    "engine = create_engine(conn_str)\n",
    "\n",
    "# Replace the relevant tables in the database\n",
    "finance.to_sql(\"batt_tech_performance_FY19\", engine, schema=\"diffusion_shared\", if_exists=\"replace\", index=False)\n",
    "batt_perf.to_sql(\"financing_atb_FY23\", engine, schema=\"diffusion_shared\",  if_exists=\"replace\", index=False)\n",
    "engine.dispose()"
   ]
  }
 ],
 "metadata": {
  "kernelspec": {
   "display_name": "dg3n",
   "language": "python",
   "name": "python3"
  },
  "language_info": {
   "codemirror_mode": {
    "name": "ipython",
    "version": 3
   },
   "file_extension": ".py",
   "mimetype": "text/x-python",
   "name": "python",
   "nbconvert_exporter": "python",
   "pygments_lexer": "ipython3",
   "version": "3.12.11"
  }
 },
 "nbformat": 4,
 "nbformat_minor": 5
}
