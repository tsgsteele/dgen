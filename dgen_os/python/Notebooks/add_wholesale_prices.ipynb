{
 "cells": [
  {
   "cell_type": "markdown",
   "id": "0",
   "metadata": {},
   "source": [
    "#### Add wholesale prices to agent file"
   ]
  },
  {
   "cell_type": "code",
   "execution_count": null,
   "id": "1",
   "metadata": {},
   "outputs": [],
   "source": [
    "import pandas as pd\n",
    "import numpy as np"
   ]
  },
  {
   "cell_type": "code",
   "execution_count": null,
   "id": "2",
   "metadata": {},
   "outputs": [],
   "source": [
    "# load the county to wholesale price mapping, the dgen county fips mapping, and the agent file\n",
    "cty_prices = pd.read_pickle(\"../../../data/stanford_files/data_county_to_wholesale.pkl\")\n",
    "county_map = pd.read_csv(\"../../../data/dgen_county_fips_mapping.csv\", dtype={'geoid10':'str', 'county_id':'str'})\n",
    "agents = pd.read_pickle(\"../../input_agents/agent_df_base_res_national_updated_rates.pkl\").reset_index(drop = False)"
   ]
  },
  {
   "cell_type": "code",
   "execution_count": null,
   "id": "3",
   "metadata": {},
   "outputs": [],
   "source": [
    "# Convert the dict of county wholesale prices to a df for the join\n",
    "prices_df = pd.DataFrame(\n",
    "    [(str(k), np.asarray(v, dtype=float)) for k, v in cty_prices.items()],\n",
    "    columns=[\"geoid10\", \"wholesale_prices\"]\n",
    ")\n",
    "\n",
    "# change agent df county_id column to str\n",
    "agents['county_id'] = agents['county_id'].astype(str)\n",
    "\n",
    "# Change Oglala Lakota County fips code for join\n",
    "county_map['geoid10'] = np.where(county_map['geoid10'] == '46113', '46102', county_map['geoid10'])\n",
    "\n",
    "# Merge to the county_map\n",
    "county_prices = county_map[['geoid10', 'county_id']].merge(prices_df, on = ['geoid10'], how = \"left\")\n",
    "\n",
    "# Merge the prices to the agent df\n",
    "agents_prices = agents.merge(county_prices[['county_id', 'wholesale_prices']], on = ['county_id'], how = 'left')"
   ]
  },
  {
   "cell_type": "code",
   "execution_count": null,
   "id": "4",
   "metadata": {},
   "outputs": [],
   "source": [
    "agents_prices.set_index(\"agent_id\").to_pickle(\"../../input_agents/agent_df_base_res_national_updated_wholesale_prices.pkl\")"
   ]
  }
 ],
 "metadata": {
  "kernelspec": {
   "display_name": "dg3n",
   "language": "python",
   "name": "python3"
  },
  "language_info": {
   "codemirror_mode": {
    "name": "ipython",
    "version": 3
   },
   "file_extension": ".py",
   "mimetype": "text/x-python",
   "name": "python",
   "nbconvert_exporter": "python",
   "pygments_lexer": "ipython3",
   "version": "3.12.11"
  }
 },
 "nbformat": 4,
 "nbformat_minor": 5
}
