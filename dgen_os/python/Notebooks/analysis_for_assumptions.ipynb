{
 "cells": [
  {
   "cell_type": "code",
   "execution_count": 2,
   "id": "5261033b",
   "metadata": {},
   "outputs": [],
   "source": [
    "import ast\n",
    "import contextily as ctx\n",
    "import psycopg2.extras as pgx\n",
    "import psycopg2 as pg\n",
    "import pandas as pd\n",
    "import numpy as np\n",
    "import seaborn as sns\n",
    "import matplotlib\n",
    "import matplotlib.pyplot as plt\n",
    "import matplotlib.ticker as mtick\n",
    "\n",
    "import sqlalchemy\n",
    "from sqlalchemy import create_engine\n",
    "import pyarrow as pa\n",
    "import pyarrow.parquet as pq\n",
    "from IPython.display import HTML\n",
    "import base64\n",
    "\n",
    "from pylab import *\n",
    "%matplotlib inline\n",
    "import geopandas as gpd"
   ]
  },
  {
   "cell_type": "code",
   "execution_count": 50,
   "id": "a6c0b2ec",
   "metadata": {},
   "outputs": [
    {
     "name": "stderr",
     "output_type": "stream",
     "text": [
      "/var/folders/sr/hy8nzjhj7xz25lt74m44nv140000gn/T/ipykernel_7608/2160336936.py:2: DtypeWarning: Columns (1,2,3,8,11,15,16,18,20,29,32,35,38,39,40,41,42,43,44,45,46,53,54,56,57,59,60,63,64,65,66,67,68,74,75,79,80) have mixed types. Specify dtype option on import or set low_memory=False.\n",
      "  df = pd.read_csv('../../../data/TTS_LBNL_public_file_21-Aug-2024_all.csv')\n"
     ]
    }
   ],
   "source": [
    "# Load data\n",
    "df = pd.read_csv('../../../data/TTS_LBNL_public_file_21-Aug-2024_all.csv')\n",
    "cpi = pd.read_csv('../../../data/inflation_multipliers.csv')\n"
   ]
  },
  {
   "cell_type": "code",
   "execution_count": 51,
   "id": "64705ed5",
   "metadata": {},
   "outputs": [],
   "source": [
    "# Extract year, month, day\n",
    "\n",
    "# 1) parse into a proper datetime\n",
    "df['installation_dt'] = pd.to_datetime(df['installation_date'], format='%d-%b-%Y', errors='coerce')\n",
    "\n",
    "# 2) extract year, month, day\n",
    "df['year']  = df['installation_dt'].dt.year\n",
    "df['month'] = df['installation_dt'].dt.month\n",
    "df['day']   = df['installation_dt'].dt.day"
   ]
  },
  {
   "cell_type": "code",
   "execution_count": 66,
   "id": "c9cb6928",
   "metadata": {},
   "outputs": [
    {
     "name": "stderr",
     "output_type": "stream",
     "text": [
      "/var/folders/sr/hy8nzjhj7xz25lt74m44nv140000gn/T/ipykernel_7608/1163411432.py:5: SettingWithCopyWarning: \n",
      "A value is trying to be set on a copy of a slice from a DataFrame.\n",
      "Try using .loc[row_indexer,col_indexer] = value instead\n",
      "\n",
      "See the caveats in the documentation: https://pandas.pydata.org/pandas-docs/stable/user_guide/indexing.html#returning-a-view-versus-a-copy\n",
      "  df_batt['price_per_kwh'] = df_batt['battery_price']/df_batt['battery_rated_capacity_kWh']\n"
     ]
    }
   ],
   "source": [
    "# Extract battery data\n",
    "df_batt = df.loc[(df['technology_type'].isin(['pv-storage','storage-only'])) & (df['battery_price'] > 0) & (df['battery_rated_capacity_kWh'] > 0)]\n",
    "\n",
    "# Calculate price per kWh\n",
    "df_batt['price_per_kwh'] = df_batt['battery_price']/df_batt['battery_rated_capacity_kWh']\n",
    "\n",
    "# Join to inflation data\n",
    "df_batt = df_batt.loc[df_batt['year']>= 2020][['year', 'month', 'price_per_kwh']].merge(cpi, on = ['year', 'month']).sort_values(['year', 'month'])\n",
    "\n",
    "# Adjust for inflation\n",
    "df_batt['price_per_kwh_adj'] = df_batt['price_per_kwh'] * df_batt['inflation_multiplier']\n"
   ]
  },
  {
   "cell_type": "code",
   "execution_count": 67,
   "id": "a42d77c4",
   "metadata": {},
   "outputs": [
    {
     "data": {
      "text/plain": [
       "count    12997.000000\n",
       "mean      1242.202496\n",
       "std        411.038445\n",
       "min        110.955814\n",
       "25%       1078.379946\n",
       "50%       1178.175340\n",
       "75%       1308.760506\n",
       "max      12794.007115\n",
       "Name: price_per_kwh_adj, dtype: float64"
      ]
     },
     "execution_count": 67,
     "metadata": {},
     "output_type": "execute_result"
    }
   ],
   "source": [
    "df_batt['price_per_kwh_adj'].describe()"
   ]
  },
  {
   "cell_type": "code",
   "execution_count": 63,
   "id": "c6ccd8a6",
   "metadata": {},
   "outputs": [
    {
     "data": {
      "text/plain": [
       "array([-1.000000e+00,  1.500000e+04,  2.360600e+04, ...,  2.566286e+06,\n",
       "        1.727000e+04,  1.986662e+06])"
      ]
     },
     "execution_count": 63,
     "metadata": {},
     "output_type": "execute_result"
    }
   ],
   "source": [
    "df['battery_price'].unique()"
   ]
  },
  {
   "cell_type": "code",
   "execution_count": 64,
   "id": "1026963e",
   "metadata": {},
   "outputs": [
    {
     "data": {
      "text/plain": [
       "array(['pv-only', 'pv+storage', 'storage-only', 'redacted', '-1', -1],\n",
       "      dtype=object)"
      ]
     },
     "execution_count": 64,
     "metadata": {},
     "output_type": "execute_result"
    }
   ],
   "source": [
    "df['technology_type'].unique()"
   ]
  },
  {
   "cell_type": "code",
   "execution_count": null,
   "id": "6ebaf145",
   "metadata": {},
   "outputs": [],
   "source": []
  }
 ],
 "metadata": {
  "kernelspec": {
   "display_name": "dg3n",
   "language": "python",
   "name": "python3"
  },
  "language_info": {
   "codemirror_mode": {
    "name": "ipython",
    "version": 3
   },
   "file_extension": ".py",
   "mimetype": "text/x-python",
   "name": "python",
   "nbconvert_exporter": "python",
   "pygments_lexer": "ipython3",
   "version": "3.12.11"
  }
 },
 "nbformat": 4,
 "nbformat_minor": 5
}
