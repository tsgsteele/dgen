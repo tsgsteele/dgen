{
 "cells": [
  {
   "cell_type": "markdown",
   "id": "0",
   "metadata": {},
   "source": [
    "### dGen Post-Run Analysis (Baseline vs Policy)\n",
    " - Loads per-state CSVs (baseline/policy)\n",
    " - Computes portfolio & cumulative bill savings (cohort carry-forward via `new_adopters`)\n",
    " - Aggregates: batt_kwh_cum, system_kw_cum, number_of_adopters, medians\n",
    " - Faceted plots by state (Baseline vs Policy)\n",
    " - EIA price compare"
   ]
  },
  {
   "cell_type": "code",
   "execution_count": null,
   "id": "1",
   "metadata": {},
   "outputs": [],
   "source": [
    "# Set path to access helpers\n",
    "from pathlib import Path\n",
    "import sys\n",
    "\n",
    "PARENT = Path.cwd().parent     # helpers live here\n",
    "if str(PARENT) not in sys.path:\n",
    "    sys.path.insert(0, str(PARENT))"
   ]
  },
  {
   "cell_type": "code",
   "execution_count": null,
   "id": "2",
   "metadata": {},
   "outputs": [],
   "source": [
    "# Imports\n",
    "from analysis_functions import (\n",
    "    SavingsConfig, process_all_states,\n",
    "    facet_lines_by_state, bar_tech_potential_2040, facet_lines_all_states_delta, facet_lines_national_totals\n",
    ")\n",
    "import pandas as pd\n",
    "import seaborn as sns\n",
    "import matplotlib.pyplot as plt"
   ]
  },
  {
   "cell_type": "code",
   "execution_count": null,
   "id": "3",
   "metadata": {},
   "outputs": [],
   "source": [
    "sns.set_style(\"whitegrid\")\n",
    "\n",
    "# Paths / settings\n",
    "ROOT_DIR = \"/Volumes/Seagate Portabl/permit_power/dgen_runs/per_state_outputs\"  # parent with state subfolders\n",
    "RUN_ID   = \"test_run_all_states\"   \n",
    "N_JOBS   = 10                                                                    # use 6–8 on a 12-core machine\n",
    "\n",
    "# Savings config: 25-year cohort lifetime, do NOT cap to modeling horizon\n",
    "cfg = SavingsConfig(lifetime_years=25, cap_to_horizon=False)\n"
   ]
  },
  {
   "cell_type": "markdown",
   "id": "4",
   "metadata": {},
   "source": [
    "\n",
    "#### Process all states (parallel)\n",
    "##### Produces small, tidy DataFrames ready for plotting:\n",
    " - result[\"totals\"] → batt_kwh_cum, system_kw_cum, number_of_adopters\n",
    " - result[\"portfolio_annual_savings\"], result[\"cumulative_bill_savings\"]\n",
    " - result[\"median_system_kw\"], result[\"tech_2040\"], result[\"lifetime_totals\"], ...\n",
    "\n"
   ]
  },
  {
   "cell_type": "code",
   "execution_count": null,
   "id": "5",
   "metadata": {},
   "outputs": [],
   "source": [
    "result = process_all_states(ROOT_DIR, run_id=RUN_ID, cfg=cfg, n_jobs=N_JOBS, states=['NY', 'FL', 'CA', 'TX'])\n",
    "for k, df in result.items():\n",
    "    print(f\"{k:28s}  rows={len(df):,}\")"
   ]
  },
  {
   "cell_type": "markdown",
   "id": "6",
   "metadata": {},
   "source": [
    "#### Faceted comparisons by state (Baseline vs Policy)"
   ]
  },
  {
   "cell_type": "code",
   "execution_count": null,
   "id": "7",
   "metadata": {},
   "outputs": [],
   "source": [
    "# 1) Cumulative storage (kWh)\n",
    "facet_lines_by_state(\n",
    "    result[\"totals\"], \n",
    "    y_col=\"batt_kwh_cum\",\n",
    "    ylabel=\"Cumulative Battery (kWh)\",\n",
    "    title=\"Battery Deployment (Cumulative)\"\n",
    ")\n",
    "\n",
    "# 2) Cumulative PV (kW)\n",
    "facet_lines_by_state(\n",
    "    result[\"totals\"],\n",
    "    y_col=\"system_kw_cum\",\n",
    "    ylabel=\"Cumulative PV (kW)\",\n",
    "    title=\"PV Deployment (Cumulative)\"\n",
    ")\n",
    "\n",
    "# 3) Cumulative adopters (count)\n",
    "facet_lines_by_state(\n",
    "    result[\"totals\"],\n",
    "    y_col=\"number_of_adopters\",\n",
    "    ylabel=\"Cumulative Adopters\",\n",
    "    title=\"Adopters (Cumulative)\"\n",
    ")\n",
    "\n",
    "# 4) Annual portfolio bill savings (cohort carry-forward)\n",
    "facet_lines_by_state(\n",
    "    result[\"portfolio_annual_savings\"],\n",
    "    y_col=\"portfolio_annual_savings\",\n",
    "    ylabel=\"Annual Portfolio\\nBill Savings ($)\",\n",
    "    title=\"Annual Portfolio Bill Savings (Carry-forward)\"\n",
    ")\n",
    "\n",
    "# 5) Cumulative bill savings through year\n",
    "facet_lines_by_state(\n",
    "    result[\"cumulative_bill_savings\"],\n",
    "    y_col=\"cumulative_bill_savings\",\n",
    "    ylabel=\"Cumulative Bill Savings ($)\",\n",
    "    title=\"Cumulative Bill Savings (All Cohorts)\"\n",
    ")\n",
    "\n",
    "# 6) Technical potential reached in 2040 (bar, sorted by Policy %)\n",
    "bar_tech_potential_2040(result[\"tech_2040\"])\n",
    "\n",
    "# 7) Median PV size by state\n",
    "facet_lines_by_state(\n",
    "    result[\"median_system_kw\"],\n",
    "    y_col=\"median_system_kw\",\n",
    "    ylabel=\"Median System Size (kW)\",\n",
    "    title=\"Median PV System Size by Scenario\",\n",
    ")\n",
    "\n",
    "# 8) Average prices by state comparing model to EIA\n",
    "\n",
    "avg_prices = pd.read_csv(\"../../../data/average_retail_elec_price.csv\")\n",
    "\n",
    "if not result[\"avg_price_2026_model\"].empty:\n",
    "    try:\n",
    "        price_cmp = (result[\"avg_price_2026_model\"]\n",
    "                     .merge(avg_prices, on=\"state_abbr\", how=\"inner\"))\n",
    "        price_cmp[\"avg_elec_price_cents_per_kwh\"] *= 100.0\n",
    "\n",
    "        # Long-form for grouped bars\n",
    "        price_melted = price_cmp.melt(\n",
    "            id_vars=\"state_abbr\",\n",
    "            value_vars=[\"avg_elec_price_cents_per_kwh\", \"cents_per_kwh\"],\n",
    "            var_name=\"Source\", value_name=\"Average Price (¢/kWh)\"\n",
    "        ).replace({\n",
    "            \"avg_elec_price_cents_per_kwh\": \"Model\",\n",
    "            \"cents_per_kwh\": \"EIA\"\n",
    "        })\n",
    "\n",
    "        # Sort by model price\n",
    "        order = (price_melted[price_melted[\"Source\"] == \"Model\"]\n",
    "                 .sort_values(\"Average Price (¢/kWh)\", ascending=False)\n",
    "                 [\"state_abbr\"].tolist())\n",
    "\n",
    "        plt.figure(figsize=(14,6))\n",
    "        ax = sns.barplot(\n",
    "            data=price_melted, x=\"state_abbr\", y=\"Average Price (¢/kWh)\",\n",
    "            hue=\"Source\", order=order, errorbar=None\n",
    "        )\n",
    "        for container in ax.containers:\n",
    "            for bar in container:\n",
    "                h = bar.get_height()\n",
    "                if h > 0:\n",
    "                    ax.text(bar.get_x()+bar.get_width()/2, h-1.5, f\"{h:.1f}\",\n",
    "                            ha=\"center\", va=\"top\", color=\"white\", fontsize=9, fontweight=\"bold\")\n",
    "        plt.title(\"Average Electricity Price in 2026: Model vs EIA (Sorted by Model)\")\n",
    "        plt.ylabel(\"¢/kWh\"); plt.xlabel(\"State\"); plt.xticks(rotation=45); plt.tight_layout(); plt.show()\n",
    "    except NameError:\n",
    "        print(\"avg_prices not defined; skip EIA comparison.\")"
   ]
  },
  {
   "cell_type": "code",
   "execution_count": null,
   "id": "8",
   "metadata": {},
   "outputs": [],
   "source": [
    "# Faceted national deltas for all metrics:\n",
    "facet_lines_all_states_delta(result)\n",
    "\n",
    "# faceted national totals for all metrics\n",
    "facet_lines_national_totals(result)"
   ]
  }
 ],
 "metadata": {
  "kernelspec": {
   "display_name": "dg3n",
   "language": "python",
   "name": "python3"
  },
  "language_info": {
   "codemirror_mode": {
    "name": "ipython",
    "version": 3
   },
   "file_extension": ".py",
   "mimetype": "text/x-python",
   "name": "python",
   "nbconvert_exporter": "python",
   "pygments_lexer": "ipython3",
   "version": "3.12.11"
  }
 },
 "nbformat": 4,
 "nbformat_minor": 5
}
