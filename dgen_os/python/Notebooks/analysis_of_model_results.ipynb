{
 "cells": [
  {
   "cell_type": "markdown",
   "id": "0",
   "metadata": {},
   "source": [
    "### dGen Post-Run Analysis (Baseline vs Policy)\n",
    " - Loads per-state CSVs (baseline/policy)\n",
    " - Computes portfolio & cumulative bill savings (cohort carry-forward via `new_adopters`)\n",
    " - Aggregates: batt_kwh_cum, system_kw_cum, number_of_adopters, medians\n",
    " - Faceted plots by state (Baseline vs Policy)\n",
    " - EIA price compare"
   ]
  },
  {
   "cell_type": "code",
   "execution_count": null,
   "id": "1",
   "metadata": {},
   "outputs": [],
   "source": [
    "# Set path to access helpers\n",
    "from pathlib import Path\n",
    "import sys\n",
    "\n",
    "PARENT = Path.cwd().parent     # helpers live here\n",
    "if str(PARENT) not in sys.path:\n",
    "    sys.path.insert(0, str(PARENT))"
   ]
  },
  {
   "cell_type": "code",
   "execution_count": null,
   "id": "2",
   "metadata": {},
   "outputs": [],
   "source": [
    "# Imports\n",
    "from analysis_functions import (\n",
    "    SavingsConfig, process_all_states,\n",
    "    facet_lines_by_state, bar_tech_potential_2040, facet_lines_national_totals,\n",
    "    process_all_states_peaks, facet_peaks_by_state, facet_median_storage_by_state,\n",
    "    facet_state_peak_timeseries_from_hourly, export_compiled_results_to_excel, build_national_totals,\n",
    "    choropleth_pv_delta_gw_policy_vs_baseline, plot_us_cum_adopters_grouped, policy_only_bill_price_diffs_after_adoption\n",
    ")\n",
    "import importlib, analysis_functions as af  # for reloads after editing the file\n",
    "import pandas as pd\n",
    "import seaborn as sns\n",
    "import matplotlib.pyplot as plt\n",
    "sns.set_style(\"whitegrid\")\n",
    "\n",
    "# --- Paths / settings ---\n",
    "ROOT_DIR = \"/Volumes/Seagate Portabl/permit_power/dgen_runs/per_state_outputs\"\n",
    "RUN_ID   = \"run_all_states_add_finance_series\"\n",
    "N_JOBS   = 8\n",
    "cfg      = SavingsConfig(lifetime_years=30, cap_to_horizon=False)\n",
    "\n",
    "# If you just edited analysis_functions.py, reload it:\n",
    "importlib.reload(af)\n"
   ]
  },
  {
   "cell_type": "markdown",
   "id": "3",
   "metadata": {},
   "source": [
    "\n",
    "#### Process all states (parallel)\n",
    "##### Produces small, tidy DataFrames ready for plotting:\n",
    " - result[\"totals\"] → batt_kwh_cum, system_kw_cum, number_of_adopters\n",
    " - result[\"portfolio_annual_savings\"], result[\"cumulative_bill_savings\"]\n",
    " - result[\"median_system_kw\"], result[\"tech_2040\"], result[\"lifetime_totals\"], ...\n",
    "\n"
   ]
  },
  {
   "cell_type": "code",
   "execution_count": null,
   "id": "4",
   "metadata": {},
   "outputs": [],
   "source": [
    "result   = process_all_states(root_dir=ROOT_DIR, run_id=RUN_ID, n_jobs=1, cfg=cfg)\n",
    "peaks_df = process_all_states_peaks(root_dir=ROOT_DIR, run_id=RUN_ID, n_jobs=1)\n",
    "\n",
    "facet_lines_national_totals(result, peaks_df=peaks_df)\n",
    "for k, df in result.items():\n",
    "    print(f\"{k:28s} rows={len(df):,}\")\n"
   ]
  },
  {
   "cell_type": "code",
   "execution_count": null,
   "id": "5",
   "metadata": {},
   "outputs": [],
   "source": [
    "# Chloropleth map\n",
    "df = choropleth_pv_delta_gw_policy_vs_baseline(\n",
    "    outputs=result\n",
    "    )"
   ]
  },
  {
   "cell_type": "code",
   "execution_count": null,
   "id": "6",
   "metadata": {},
   "outputs": [],
   "source": [
    "# Grouped bar plot with cumulative adopters\n",
    "us_bars = plot_us_cum_adopters_grouped(result)"
   ]
  },
  {
   "cell_type": "code",
   "execution_count": null,
   "id": "7",
   "metadata": {},
   "outputs": [],
   "source": [
    "result['totals'][(result['totals']['scenario'] == 'policy') & (result['totals']['year'] == 2040)]['number_of_adopters'].sum()"
   ]
  },
  {
   "cell_type": "code",
   "execution_count": null,
   "id": "8",
   "metadata": {},
   "outputs": [],
   "source": [
    "(result['lifetime_totals'][(result['lifetime_totals']['state_abbr'] == 'NJ') & \n",
    "                           (result['lifetime_totals']['scenario'] == 'policy')]['lifetime_savings_total'].values[0]-\n",
    " result['lifetime_totals'][(result['lifetime_totals']['state_abbr'] == 'NJ') & \n",
    "                           (result['lifetime_totals']['scenario'] == 'baseline')]['lifetime_savings_total'].values[0])"
   ]
  },
  {
   "cell_type": "code",
   "execution_count": null,
   "id": "9",
   "metadata": {},
   "outputs": [],
   "source": [
    "result['lifetime_totals'][result['lifetime_totals']['scenario'] == 'policy']['lifetime_savings_total'].sum()/result['totals'][(result['totals']['scenario'] == 'policy') & (result['totals']['year'] == 2040)]['number_of_adopters'].sum()"
   ]
  },
  {
   "cell_type": "code",
   "execution_count": null,
   "id": "10",
   "metadata": {},
   "outputs": [],
   "source": [
    "us_policy = policy_only_bill_price_diffs_after_adoption(\n",
    "    root_dir=\"/Volumes/Seagate Portabl/permit_power/dgen_runs/per_state_outputs/\",\n",
    "    year=2040,\n",
    "    level=\"US\",\n",
    "    run_id=RUN_ID\n",
    ")"
   ]
  },
  {
   "cell_type": "markdown",
   "id": "11",
   "metadata": {},
   "source": [
    "#### Faceted comparisons by state (Baseline vs Policy)"
   ]
  },
  {
   "cell_type": "code",
   "execution_count": null,
   "id": "12",
   "metadata": {},
   "outputs": [],
   "source": [
    "# ## State level facet plots\n",
    "\n",
    "# # 1) Cumulative storage (kWh)\n",
    "# facet_lines_by_state(\n",
    "#     result[\"totals\"], \n",
    "#     y_col=\"batt_kwh_cum\",\n",
    "#     ylabel=\"Cumulative Battery (kWh)\",\n",
    "#     title=\"Battery Deployment (Cumulative)\"\n",
    "# )\n",
    "\n",
    "# # 2) Cumulative PV (kW)\n",
    "# facet_lines_by_state(\n",
    "#     result[\"totals\"],\n",
    "#     y_col=\"system_kw_cum\",\n",
    "#     ylabel=\"Cumulative PV (kW)\",\n",
    "#     title=\"PV Deployment (Cumulative)\"\n",
    "# )\n",
    "\n",
    "# # 3) Cumulative adopters (count)\n",
    "# facet_lines_by_state(\n",
    "#     result[\"totals\"],\n",
    "#     y_col=\"number_of_adopters\",\n",
    "#     ylabel=\"Cumulative Adopters\",\n",
    "#     title=\"Adopters (Cumulative)\"\n",
    "# )\n",
    "\n",
    "# # 4) Annual portfolio bill savings (cohort carry-forward)\n",
    "# facet_lines_by_state(\n",
    "#     result[\"portfolio_annual_savings\"],\n",
    "#     y_col=\"portfolio_annual_savings\",\n",
    "#     ylabel=\"Annual Portfolio\\nBill Savings ($)\",\n",
    "#     title=\"Annual Portfolio Bill Savings (Carry-forward)\"\n",
    "# )\n",
    "\n",
    "# # 5) Cumulative bill savings through year\n",
    "# facet_lines_by_state(\n",
    "#     result[\"cumulative_bill_savings\"],\n",
    "#     y_col=\"cumulative_bill_savings\",\n",
    "#     ylabel=\"Cumulative Bill Savings ($)\",\n",
    "#     title=\"Cumulative Bill Savings (All Cohorts)\"\n",
    "# )\n",
    "\n",
    "# # # 6) Technical potential reached in 2040 (bar, sorted by Policy %)\n",
    "# # bar_tech_potential_2040(result[\"tech_2040\"])\n",
    "\n",
    "# # 7) Median PV size by state\n",
    "# facet_lines_by_state(\n",
    "#     result[\"median_system_kw\"],\n",
    "#     y_col=\"median_system_kw\",\n",
    "#     ylabel=\"Median System Size (kW)\",\n",
    "#     title=\"Median PV System Size by Scenario\",\n",
    "# )\n",
    "\n",
    "# # 8) Peak by year by state\n",
    "# facet_peaks_by_state(peaks_df)\n",
    "\n",
    "# # 8) Peak time series by state\n",
    "# facet_state_peak_timeseries_from_hourly(\n",
    "#     root_dir=\"/Volumes/Seagate Portabl/permit_power/dgen_runs/per_state_outputs\",\n",
    "#     run_id=RUN_ID,\n",
    "#     year=2040, \n",
    "#     col_wrap=4,\n",
    "#     height=2.8,\n",
    "# )\n",
    "\n",
    "# # 8) Average prices by state comparing model to EIA\n",
    "\n",
    "# avg_prices = pd.read_csv(\"../../../data/average_retail_elec_price.csv\")\n",
    "\n",
    "# if not result[\"avg_price_2026_model\"].empty:\n",
    "#     try:\n",
    "#         price_cmp = (result[\"avg_price_2026_model\"]\n",
    "#                      .merge(avg_prices, on=\"state_abbr\", how=\"inner\"))\n",
    "#         price_cmp[\"price_per_kwh\"] *= 100.0\n",
    "\n",
    "#         # Long-form for grouped bars\n",
    "#         price_melted = price_cmp.melt(\n",
    "#             id_vars=\"state_abbr\",\n",
    "#             value_vars=[\"price_per_kwh\", \"cents_per_kwh\"],\n",
    "#             var_name=\"Source\", value_name=\"Average Price (¢/kWh)\"\n",
    "#         ).replace({\n",
    "#             \"price_per_kwh\": \"Model\",\n",
    "#             \"cents_per_kwh\": \"EIA\"\n",
    "#         })\n",
    "\n",
    "#         # Sort by model price\n",
    "#         order = (price_melted[price_melted[\"Source\"] == \"Model\"]\n",
    "#                  .sort_values(\"Average Price (¢/kWh)\", ascending=False)\n",
    "#                  [\"state_abbr\"].tolist())\n",
    "\n",
    "#         plt.figure(figsize=(14,6))\n",
    "#         ax = sns.barplot(\n",
    "#             data=price_melted, x=\"state_abbr\", y=\"Average Price (¢/kWh)\",\n",
    "#             hue=\"Source\", order=order, errorbar=None\n",
    "#         )\n",
    "#         for container in ax.containers:\n",
    "#             for bar in container:\n",
    "#                 h = bar.get_height()\n",
    "#                 if h > 0:\n",
    "#                     ax.text(bar.get_x()+bar.get_width()/2, h-1.5, f\"{h:.1f}\",\n",
    "#                             ha=\"center\", va=\"top\", color=\"white\", fontsize=9, fontweight=\"bold\")\n",
    "#         plt.title(\"Average Electricity Price in 2026: Model vs EIA (Sorted by Model)\")\n",
    "#         plt.ylabel(\"¢/kWh\"); plt.xlabel(\"State\"); plt.xticks(rotation=45); plt.tight_layout(); plt.show()\n",
    "#     except NameError:\n",
    "#         print(\"avg_prices not defined; skip EIA comparison.\")"
   ]
  },
  {
   "cell_type": "code",
   "execution_count": null,
   "id": "13",
   "metadata": {},
   "outputs": [],
   "source": [
    "result['totals']['cum_new_adopters'] = result['totals'].groupby(['state_abbr', 'scenario'], as_index = False)['new_adopters'].cumsum()\n",
    "df_per_household = result['totals'][(result['totals']['year'] == 2040)].merge(result['lifetime_totals'], on = ['state_abbr', 'scenario'], how = 'left') \n",
    "df_per_household_agg = df_per_household.groupby(['scenario'], as_index = False).agg({'lifetime_savings_total':'sum', 'cum_new_adopters':'sum'})\n",
    "df_per_household_agg['lifetime_savings_per_household'] = df_per_household_agg['lifetime_savings_total']/df_per_household_agg['cum_new_adopters']"
   ]
  },
  {
   "cell_type": "code",
   "execution_count": null,
   "id": "14",
   "metadata": {},
   "outputs": [],
   "source": [
    "result['portfolio_annual_savings']"
   ]
  },
  {
   "cell_type": "code",
   "execution_count": null,
   "id": "15",
   "metadata": {},
   "outputs": [],
   "source": [
    "# NREL standard scenarios distributed PV \n",
    "nrel_dgen = nrel.merge(result['totals'][\n",
    "    (result['totals']['scenario'] == 'baseline') & \n",
    "    (result['totals']['year'] == 2040)][['state_abbr', 'system_kw_cum']], on = 'state_abbr', how = 'left')\n",
    "\n",
    "nrel_dgen['abs_error'] = nrel_dgen['nrel'] - (nrel_dgen['system_kw_cum']/1000)\n",
    "\n",
    "fig, ax = plt.subplots(figsize=(9, 5))\n",
    "ax.hist(nrel_dgen['abs_error'], bins=10, edgecolor=\"white\", linewidth=1.0)\n",
    "\n",
    "# Annotate counts using the drawn rectangles\n",
    "heights = [p.get_height() for p in ax.patches]\n",
    "for rect in ax.patches:\n",
    "    h = rect.get_height()\n",
    "    if h <= 0:\n",
    "        continue\n",
    "    x = rect.get_x() + rect.get_width() / 2\n",
    "    ax.text(x, h, f\"{int(round(h))}\",\n",
    "            ha=\"center\", va=\"bottom\",\n",
    "            color=\"black\", fontsize=10, fontweight=\"bold\")\n",
    "\n",
    "ax.set_xlabel(\"MW\")\n",
    "ax.set_ylabel(\"Count of States\")\n",
    "ax.set_title(\"State-level Error in MW PV Deployment \\n(NREL vs. dGen)\")\n",
    "ax.set_ylim(0, (max(heights) * 1.12) if heights else 1)  # space for labels\n",
    "ax.grid(axis=\"y\", alpha=0.2)\n",
    "plt.tight_layout()\n",
    "plt.show()"
   ]
  },
  {
   "cell_type": "code",
   "execution_count": null,
   "id": "16",
   "metadata": {},
   "outputs": [],
   "source": [
    "nrel_dgen.to_csv(\"../../../data/nrel_dgen_compare.csv\")"
   ]
  },
  {
   "cell_type": "code",
   "execution_count": null,
   "id": "17",
   "metadata": {},
   "outputs": [],
   "source": [
    "xlsx_path = export_compiled_results_to_excel(result, RUN_ID, peaks_df=peaks_df, include_national=True)\n",
    "print(\"Wrote:\", xlsx_path)"
   ]
  }
 ],
 "metadata": {
  "kernelspec": {
   "display_name": "dg3n",
   "language": "python",
   "name": "python3"
  },
  "language_info": {
   "codemirror_mode": {
    "name": "ipython",
    "version": 3
   },
   "file_extension": ".py",
   "mimetype": "text/x-python",
   "name": "python",
   "nbconvert_exporter": "python",
   "pygments_lexer": "ipython3",
   "version": "3.12.11"
  }
 },
 "nbformat": 4,
 "nbformat_minor": 5
}
