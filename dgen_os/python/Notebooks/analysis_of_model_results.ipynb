{
 "cells": [
  {
   "cell_type": "markdown",
   "id": "0",
   "metadata": {},
   "source": [
    "### dGen Post-Run Analysis (Baseline vs Policy)\n",
    " - Loads per-state CSVs (baseline/policy)\n",
    " - Computes portfolio & cumulative bill savings (cohort carry-forward via `new_adopters`)\n",
    " - Aggregates: batt_kwh_cum, system_kw_cum, number_of_adopters, medians\n",
    " - Faceted plots by state (Baseline vs Policy)\n",
    " - EIA price compare"
   ]
  },
  {
   "cell_type": "code",
   "execution_count": null,
   "id": "1",
   "metadata": {},
   "outputs": [],
   "source": [
    "# Set path to access helpers\n",
    "from pathlib import Path\n",
    "import sys\n",
    "\n",
    "PARENT = Path.cwd().parent     # helpers live here\n",
    "if str(PARENT) not in sys.path:\n",
    "    sys.path.insert(0, str(PARENT))"
   ]
  },
  {
   "cell_type": "code",
   "execution_count": null,
   "id": "2",
   "metadata": {},
   "outputs": [],
   "source": [
    "# Imports\n",
    "from analysis_functions import *\n",
    "import importlib, analysis_functions as af  # for reloads after editing the file\n",
    "import pandas as pd\n",
    "import seaborn as sns\n",
    "import matplotlib.pyplot as plt\n",
    "sns.set_style(\"whitegrid\")\n",
    "\n",
    "# --- Paths / settings ---\n",
    "ROOT_DIR = \"/Volumes/Seagate Portabl/permit_power/dgen_runs/per_state_outputs\"\n",
    "RUN_ID   = \"run_all_states_add_finance_series\"\n",
    "N_JOBS   = 8\n",
    "cfg      = SavingsConfig(lifetime_years=30, cap_to_horizon=False)\n",
    "\n",
    "# If you just edited analysis_functions.py, reload it:\n",
    "importlib.reload(af)\n"
   ]
  },
  {
   "cell_type": "markdown",
   "id": "3",
   "metadata": {},
   "source": [
    "\n",
    "#### Process all states (parallel)\n",
    "##### Produces small, tidy DataFrames ready for plotting:\n",
    " - result[\"totals\"] → batt_kwh_cum, system_kw_cum, number_of_adopters\n",
    " - result[\"portfolio_annual_savings\"], result[\"cumulative_bill_savings\"]\n",
    " - result[\"median_system_kw\"], result[\"tech_2040\"], result[\"lifetime_totals\"], ...\n",
    "\n"
   ]
  },
  {
   "cell_type": "code",
   "execution_count": null,
   "id": "4",
   "metadata": {},
   "outputs": [],
   "source": [
    "result   = process_all_states(root_dir=ROOT_DIR, run_id=RUN_ID, n_jobs=1, cfg=SavingsConfig)\n",
    "peaks_df = process_all_states_peaks(root_dir=ROOT_DIR, run_id=RUN_ID, n_jobs=1)\n",
    "\n",
    "facet_lines_national_totals(result, peaks_df=peaks_df)\n",
    "# for k, df in result.items():\n",
    "#     print(f\"{k:28s} rows={len(df):,}\")\n"
   ]
  },
  {
   "cell_type": "code",
   "execution_count": null,
   "id": "5",
   "metadata": {},
   "outputs": [],
   "source": [
    "# Chloropleth map\n",
    "df = choropleth_pv_delta_gw_policy_vs_baseline(\n",
    "    outputs=result\n",
    "    )"
   ]
  },
  {
   "cell_type": "code",
   "execution_count": null,
   "id": "6",
   "metadata": {},
   "outputs": [],
   "source": [
    "# Grouped bar plot with cumulative adopters\n",
    "us_bars = plot_us_cum_adopters_grouped(result)"
   ]
  },
  {
   "cell_type": "code",
   "execution_count": null,
   "id": "7",
   "metadata": {},
   "outputs": [],
   "source": [
    "# Policy - Baseline lifetime savings totals\n",
    "result['lifetime_totals'][result['lifetime_totals']['scenario'] == 'policy']['lifetime_savings_total'].sum()-result['lifetime_totals'][result['lifetime_totals']['scenario'] == 'baseline']['lifetime_savings_total'].sum()"
   ]
  },
  {
   "cell_type": "code",
   "execution_count": null,
   "id": "8",
   "metadata": {},
   "outputs": [],
   "source": [
    "# Top 5 states for solar capacity\n",
    "result['totals']['cum_new_system_kw'] = result['totals'].groupby(['state_abbr', 'scenario'], as_index = False)['new_system_kw'].cumsum()\n",
    "result['totals']['initial_system_kw'] = result['totals']['system_kw_cum']-result['totals']['cum_new_system_kw']\n",
    "\n",
    "capacity_2040 = (\n",
    "    result['totals'][result['totals']['year'] == 2040][['state_abbr', 'scenario', 'system_kw_cum', 'cum_new_system_kw', 'initial_system_kw']]\n",
    "    .pivot(index = ['state_abbr'], columns = ['scenario'], values = ['system_kw_cum', 'cum_new_system_kw', 'initial_system_kw'])\n",
    ")\n",
    "\n",
    "capacity_2040['diff'] = (capacity_2040['cum_new_system_kw']['policy']-capacity_2040['cum_new_system_kw']['baseline'])\n",
    "capacity_2040['pct'] = (capacity_2040['diff']/capacity_2040['initial_system_kw']['baseline'])*100"
   ]
  },
  {
   "cell_type": "markdown",
   "id": "9",
   "metadata": {},
   "source": [
    "#### Faceted choropleth of payback threshold under 5 yrs"
   ]
  },
  {
   "cell_type": "code",
   "execution_count": null,
   "id": "10",
   "metadata": {},
   "outputs": [],
   "source": [
    "facet_choropleth_payback_continuous(\n",
    "    root_dir=ROOT_DIR,\n",
    "    shapefile_path=\"../../../data/states.shp\",\n",
    "    run_id=RUN_ID,\n",
    "    year=2040\n",
    ")\n"
   ]
  },
  {
   "cell_type": "code",
   "execution_count": null,
   "id": "11",
   "metadata": {},
   "outputs": [],
   "source": [
    "payback_ts = build_payback_timeseries(\n",
    "    root_dir=ROOT_DIR,\n",
    "    run_id=RUN_ID,\n",
    "    level = 'US'\n",
    ")\n",
    "\n",
    "payback_ts[payback_ts['year'] == 2040]"
   ]
  },
  {
   "cell_type": "code",
   "execution_count": null,
   "id": "12",
   "metadata": {},
   "outputs": [],
   "source": [
    "eabs_state = build_eabs_calendar_timeseries(ROOT_DIR, run_id=RUN_ID, level=\"state\")\n",
    "eabs_us    = build_eabs_calendar_timeseries(ROOT_DIR, run_id=RUN_ID, level=\"US\")\n",
    "\n",
    "# Report national affordability in 2040\n",
    "summarize_us_eabs_for_year(eabs_us, year=2040)"
   ]
  },
  {
   "cell_type": "code",
   "execution_count": null,
   "id": "13",
   "metadata": {},
   "outputs": [],
   "source": [
    "# Top 5 states (policy, 2040) by EABS, with bills\n",
    "table_top_states_by_eabs(eabs_state, year=2040, scenario=\"policy\", top_n=5)"
   ]
  },
  {
   "cell_type": "code",
   "execution_count": null,
   "id": "14",
   "metadata": {},
   "outputs": [],
   "source": [
    "# Build EABS (state-level)\n",
    "eabs_state = build_eabs_calendar_timeseries(ROOT_DIR, run_id=RUN_ID, level=\"state\")\n",
    "\n",
    "# Build internal denominator from per-agent baseline outputs\n",
    "denom = build_population_denominator_from_agents(ROOT_DIR, run_id=RUN_ID)\n",
    "\n",
    "# US series\n",
    "us_pct = compute_us_percent_savings_internal(eabs_state, denom)\n",
    "\n",
    "# 2040 headline\n",
    "us_2040 = us_pct[us_pct[\"year\"] == 2040].set_index(\"scenario\")\n",
    "pol = us_2040.loc[\"policy\"]\n",
    "bas = us_2040.loc[\"baseline\"]\n",
    "print(\n",
    "    f\"In 2040, U.S. households avoid {pol['percent_savings']:.1%} of residential electricity spend \"\n",
    "    f\"under the $1/W policy (vs {bas['percent_savings']:.1%} baseline), \"\n",
    "    f\"equal to ${pol['total_savings_usd']/1e9:.1f}B in annual bill savings.\"\n",
    ")\n",
    "\n",
    "# Plot the US line\n",
    "plot_us_percent_savings(us_pct)\n",
    "\n",
    "# Top-5 states (2040, policy)\n",
    "top5_2040 = table_top_states_by_percent_savings_internal(eabs_state, denom, year=2040, scenario=\"policy\", top_n=5)\n",
    "top5_2040\n"
   ]
  },
  {
   "cell_type": "code",
   "execution_count": null,
   "id": "15",
   "metadata": {},
   "outputs": [],
   "source": [
    "result['totals']['cum_new_adopters'] = result['totals'].groupby(['state_abbr', 'scenario'], as_index = False)['new_adopters'].cumsum()\n",
    "df_per_household = result['totals'][(result['totals']['year'] == 2040)].merge(result['lifetime_totals'], on = ['state_abbr', 'scenario'], how = 'left') \n",
    "df_per_household_agg = df_per_household.groupby(['scenario'], as_index = False).agg({'lifetime_savings_total':'sum', 'cum_new_adopters':'sum'})\n",
    "df_per_household_agg['lifetime_savings_per_household'] = df_per_household_agg['lifetime_savings_total']/df_per_household_agg['cum_new_adopters']"
   ]
  },
  {
   "cell_type": "code",
   "execution_count": null,
   "id": "16",
   "metadata": {},
   "outputs": [],
   "source": [
    "xlsx_path = export_compiled_results_to_excel(result, RUN_ID, peaks_df=peaks_df, include_national=True)\n",
    "print(\"Wrote:\", xlsx_path)"
   ]
  }
 ],
 "metadata": {
  "kernelspec": {
   "display_name": "dg3n",
   "language": "python",
   "name": "python3"
  },
  "language_info": {
   "codemirror_mode": {
    "name": "ipython",
    "version": 3
   },
   "file_extension": ".py",
   "mimetype": "text/x-python",
   "name": "python",
   "nbconvert_exporter": "python",
   "pygments_lexer": "ipython3",
   "version": "3.12.11"
  }
 },
 "nbformat": 4,
 "nbformat_minor": 5
}
