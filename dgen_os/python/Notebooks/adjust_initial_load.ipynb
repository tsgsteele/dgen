{
 "cells": [
  {
   "cell_type": "code",
   "execution_count": null,
   "id": "0",
   "metadata": {},
   "outputs": [],
   "source": [
    "import pandas as pd"
   ]
  },
  {
   "cell_type": "code",
   "execution_count": null,
   "id": "1",
   "metadata": {},
   "outputs": [],
   "source": [
    "# Load data\n",
    "df = pd.read_pickle('agent_df_base_res_national_revised_v2.pkl')\n",
    "load = pd.read_csv('../../../data/load_growth_to_model.csv')\n"
   ]
  },
  {
   "cell_type": "code",
   "execution_count": null,
   "id": "2",
   "metadata": {},
   "outputs": [],
   "source": [
    "# Pull out agent id column\n",
    "df = df.reset_index(drop=False)"
   ]
  },
  {
   "cell_type": "code",
   "execution_count": null,
   "id": "3",
   "metadata": {},
   "outputs": [],
   "source": [
    "# Join load data to agent data\n",
    "df_load_multiplier = (\n",
    "    df.merge(load[load['year'] == 2026][['county_id', 'sector_abbr', 'load_multiplier']], on = ['county_id', 'sector_abbr'])\n",
    ")\n",
    "\n",
    "# Adjust load upwards\n",
    "df_load_multiplier['load_kwh_in_bin_initial'] = df_load_multiplier['load_multiplier']*df_load_multiplier['load_kwh_in_bin_initial']\n",
    "df_load_multiplier['load_kwh_per_customer_in_bin_initial'] = df_load_multiplier['load_multiplier']*df_load_multiplier['load_kwh_per_customer_in_bin_initial']"
   ]
  },
  {
   "cell_type": "code",
   "execution_count": null,
   "id": "4",
   "metadata": {},
   "outputs": [],
   "source": [
    "# Prepare agent file for write\n",
    "df_to_write = df_load_multiplier.drop('load_multiplier', axis = 1).set_index('agent_id')"
   ]
  },
  {
   "cell_type": "code",
   "execution_count": null,
   "id": "5",
   "metadata": {},
   "outputs": [],
   "source": [
    "# Write agent file\n",
    "df_to_write.to_pickle('../../input_agents/agent_df_base_res_national_load_adjusted.pkl')"
   ]
  },
  {
   "cell_type": "code",
   "execution_count": null,
   "id": "6",
   "metadata": {},
   "outputs": [],
   "source": [
    "import matplotlib.pyplot as plt\n",
    "prices = pd.read_csv(\"../../data/hourly_prices_kwh.csv\")"
   ]
  }
 ],
 "metadata": {
  "kernelspec": {
   "display_name": "dg3n",
   "language": "python",
   "name": "python3"
  },
  "language_info": {
   "codemirror_mode": {
    "name": "ipython",
    "version": 3
   },
   "file_extension": ".py",
   "mimetype": "text/x-python",
   "name": "python",
   "nbconvert_exporter": "python",
   "pygments_lexer": "ipython3",
   "version": "3.12.11"
  }
 },
 "nbformat": 4,
 "nbformat_minor": 5
}
