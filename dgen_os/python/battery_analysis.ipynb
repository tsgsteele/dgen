{
 "cells": [
  {
   "cell_type": "code",
   "execution_count": null,
   "id": "0",
   "metadata": {},
   "outputs": [],
   "source": [
    "from battery_analysis import get_engine, load_annual, aggregate_hourly_components, reconcile_summary, \\\n",
    "                             plot_scatter_value_vs_size, plot_topN_component_bars, plot_break_even_hist, plot_agent_day, \\\n",
    "                             plot_energy_value_vs_cost_from_detail, compute_incremental_value_and_cost_from_detail, \\\n",
    "                             plot_incremental_value_vs_cost_from_detail\n",
    "\n",
    "engine, schema = get_engine(schema=\"diffusion_results_policy_20250902_121843359890\")\n",
    "year = 2026\n",
    "\n",
    "annual = load_annual(engine, schema, year)\n",
    "hourly = aggregate_hourly_components(engine, schema, year)\n",
    "view   = reconcile_summary(annual, hourly)\n",
    "\n",
    "# # Scatter: size vs FIRST-YEAR BILL DELTA ($): <0 means battery saved money\n",
    "# plot_scatter_value_vs_size(view)\n",
    "\n",
    "# # Stacked bars for the agents with the biggest impacts\n",
    "# plot_topN_component_bars(view, N=12)\n",
    "\n",
    "# # Break-even needed ($/kWh-yr) to make ΔNPV >= 0\n",
    "# plot_break_even_hist(view, per_kwh=True, bins=40)\n",
    "\n",
    "\n",
    "# 5) Inspect one agent’s typical day (choose an agent ID from view)\n",
    "aid = 499613\n",
    "df = plot_agent_day(engine, schema, agent_id=aid, year=year, day_index=200)\n",
    "\n",
    "# df_inc = compute_incremental_value_and_cost_from_detail(engine, schema, year=2026)\n",
    "# plot_incremental_value_vs_cost_from_detail(engine, schema, year=2026)\n",
    "\n"
   ]
  },
  {
   "cell_type": "code",
   "execution_count": null,
   "id": "1",
   "metadata": {},
   "outputs": [],
   "source": []
  }
 ],
 "metadata": {
  "kernelspec": {
   "display_name": "dg3n",
   "language": "python",
   "name": "python3"
  },
  "language_info": {
   "codemirror_mode": {
    "name": "ipython",
    "version": 3
   },
   "file_extension": ".py",
   "mimetype": "text/x-python",
   "name": "python",
   "nbconvert_exporter": "python",
   "pygments_lexer": "ipython3",
   "version": "3.12.11"
  }
 },
 "nbformat": 4,
 "nbformat_minor": 5
}
